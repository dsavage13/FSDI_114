{
 "cells": [
  {
   "cell_type": "markdown",
   "id": "e61c45e6-6cac-40ac-9baf-d530e6172167",
   "metadata": {},
   "source": [
    "# Class 4 Notes"
   ]
  },
  {
   "cell_type": "markdown",
   "id": "e1fefb92-7976-4cbd-be3a-62fe48684532",
   "metadata": {},
   "source": [
    "A recursive function is a function that calls itself at least once during execution.\n",
    "\n",
    "The exit condition is a recursive function is typically referred to as a \"base case\" and it represents a condition we know (for a fact) to be true.\n",
    "\n",
    "When the function calls itself, we can refer to this as the \"recursive case\"."
   ]
  },
  {
   "cell_type": "code",
   "execution_count": 4,
   "id": "7fecb23e-914d-4fb6-8e6a-f9a88f05a1b8",
   "metadata": {},
   "outputs": [
    {
     "data": {
      "text/plain": [
       "120"
      ]
     },
     "execution_count": 4,
     "metadata": {},
     "output_type": "execute_result"
    }
   ],
   "source": [
    "# a simple example of recursive functions\n",
    "\n",
    "# The factorial of an integer N is N! = N*(N-1)\n",
    "\n",
    "# For example, the foctorial of 5, which is represented by 5! is 5!=5x4! which can be evaluated as 5!=5x4x3x2x1\n",
    "\n",
    "# O(n) space complexity also this has O(n) time complexity\n",
    "def factorial(n):\n",
    "    # As a mathematical convention, the factorial of 0 is equal to 1.\n",
    "    if n < 1:                  # Base case of exit condition\n",
    "        return 1\n",
    "    return n*factorial(n-1)    # Recursive case or recursive condition\n",
    "\n",
    "factorial(5)"
   ]
  },
  {
   "cell_type": "markdown",
   "id": "d9ac3a00-24d7-4068-8a96-abdf48558e92",
   "metadata": {},
   "source": [
    "# Challenges with Recursion\n",
    "\n",
    "# The Fibonacci sequence\n",
    "\n",
    "# F0 = 0\n",
    "# F1 = 1\n",
    "\n",
    "# Example: 0, 1, 1, 2, 3, 5, 8, 13, 21, 34, \n",
    "\n",
    "# FN = F(N-1) + F(N-2)\n",
    "\n",
    "# What if i wanted to know F(30)?\n",
    "\n",
    "# Sub-optimal recursive function\n",
    "\n",
    "# Temporary fix to implement caching for this function:\n",
    "from functools import lru_cache\n",
    "\n",
    "@lru_cache\n",
    "def fibonacci(n):\n",
    "    if n < 2:\n",
    "        return n\n",
    "    return fibonacci(n-1) + fibonacci(n-2)\n",
    "\n",
    "fibonacci (30)"
   ]
  },
  {
   "cell_type": "code",
   "execution_count": 3,
   "id": "490a6a89-12bd-4254-a1f5-2dc3f159ac88",
   "metadata": {},
   "outputs": [
    {
     "data": {
      "text/plain": [
       "3878968454388325633701916308325905312082127714646245106160597214895550139044037097010822916462210669479293452858882973813483102008954982940361430156911478938364216563944106910214505634133706558656238254656700712525929903854933813928836378347518908762970712033337052923107693008518093849801803847813996748881765554653788291644268912980384613778969021502293082475666346224923071883324803280375039130352903304505842701147635242270210934637699104006714174883298422891491273104054328753298044273676822977244987749874555691907703880637046832794811358973739993110106219308149018570815397854379195305617510761053075688783766033667355445258844886241619210553457493675897849027988234351023599844663934853256411952221859563060475364645470760330902420806382584929156452876291575759142343809142302917491088984155209854432486594079793571316841692868039545309545388698114665082066862897420639323438488465240988742395873801976993820317174208932265468879364002630797780058759129671389634214252579116872755600360311370547754724604639987588046985178408674382863125"
      ]
     },
     "execution_count": 3,
     "metadata": {},
     "output_type": "execute_result"
    }
   ],
   "source": [
    "for number in range(0, 5000):\n",
    "    fibonacci(number)\n",
    "\n",
    "fibonacci(5000)"
   ]
  },
  {
   "cell_type": "code",
   "execution_count": 6,
   "id": "5dd331cc-cb21-4fdf-b6e7-596896be9ecb",
   "metadata": {},
   "outputs": [
    {
     "data": {
      "text/plain": [
       "12586269025"
      ]
     },
     "execution_count": 6,
     "metadata": {},
     "output_type": "execute_result"
    }
   ],
   "source": [
    "# Replacing lru_cache with built-in dictionary\n",
    "\n",
    "solutions = dict()\n",
    "\n",
    "def fib(n):\n",
    "    if n in solutions.keys():\n",
    "        return solutions[n]\n",
    "    if n < 2:\n",
    "        return n\n",
    "    solutions[n] = fib(n-1) + fib(n-2)\n",
    "    return fib(n)\n",
    "fib(50)"
   ]
  },
  {
   "cell_type": "code",
   "execution_count": null,
   "id": "fc2fc2e0-1389-4572-b0d0-ebb8a8e9304e",
   "metadata": {},
   "outputs": [],
   "source": [
    "def balance_check:\n",
    "    stack []\n",
    "    bracket_pairs = \n",
    "    if len(str)%2 !=0:\n",
    "\n",
    "    else:\n",
    "        return False\n",
    "\n",
    "# 1. Keep track of all possible combinations that are valid.\n",
    "# 2. Keep track of all valid characters in this space.\n",
    "# 2.1. Create a set of opening parenthesis; In pythone we could do this: opening = set(\"{[(\")\n",
    "# 3. Check the length of the string, and if it contains an odd number of characters, return False\n",
    "# 4. Otherwise, we are going to loop over the recieved string\n",
    "# 4.1. As we loop, retriecce the next character in the string. \n",
    "# 5. Everytime we loop, we check if the caharacter ir part of the \"opening\" set. \n",
    "# 5.1 If it is, add that character to our stack (push)\n",
    "# 5.2. If it isn't, pop the top character frorm the stack and compare the combination to the collection of valid combinations/\n",
    "# 5.2.1 If the combination does not exist in our collection, return False.\n",
    "# 6. After looping through the entire string, if the stack is not empty, return False, otherwise return True."
   ]
  }
 ],
 "metadata": {
  "kernelspec": {
   "display_name": "Python 3 (ipykernel)",
   "language": "python",
   "name": "python3"
  },
  "language_info": {
   "codemirror_mode": {
    "name": "ipython",
    "version": 3
   },
   "file_extension": ".py",
   "mimetype": "text/x-python",
   "name": "python",
   "nbconvert_exporter": "python",
   "pygments_lexer": "ipython3",
   "version": "3.13.0"
  }
 },
 "nbformat": 4,
 "nbformat_minor": 5
}
