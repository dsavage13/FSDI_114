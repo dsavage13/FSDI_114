{
 "cells": [
  {
   "cell_type": "code",
   "execution_count": 1,
   "id": "f80057f2-4f42-4c0b-95e4-e1a14d913e40",
   "metadata": {},
   "outputs": [
    {
     "name": "stdout",
     "output_type": "stream",
     "text": [
      "H\n",
      "e\n",
      "l\n",
      "l\n",
      "o\n",
      ",\n",
      " \n",
      "w\n",
      "o\n",
      "r\n",
      "l\n",
      "d\n",
      "!\n"
     ]
    }
   ],
   "source": [
    "for char in \"Hello, world!\":\n",
    "    print(char)"
   ]
  },
  {
   "cell_type": "code",
   "execution_count": null,
   "id": "9e2090a1-27ab-418b-b8c0-ff61f4ebf823",
   "metadata": {},
   "outputs": [],
   "source": []
  },
  {
   "cell_type": "raw",
   "id": "28b8218e-0bd8-4444-a7d4-0e019dcaf256",
   "metadata": {},
   "source": []
  },
  {
   "cell_type": "markdown",
   "id": "e1bdd712-5475-4490-a262-567e80217fd8",
   "metadata": {},
   "source": [
    "# Problem 1\n",
    "\n",
    "## Anagram Check\n",
    "\n",
    "Given two strings, determine if these are anagrams of each other. Your function should return True, if these are anagrams of each other, False otherwise. \n",
    "### Criteria\n",
    "Two strings are anagrams of each other, if *all* the criteria below is met:\n",
    "1. They mus contain the same number of letters the same amount of times.\n",
    "2. They must be of equal length.\n",
    "\n",
    "```\n",
    "Examples:\n",
    "cars and scar\n",
    "stars and rats\n",
    "earth and heart\n",
    "\n",
    "BUT ALSO:\n",
    "I am Lord Voldermort and Tom. Marvolo Riddle\n",
    "```"
   ]
  },
  {
   "cell_type": "code",
   "execution_count": 2,
   "id": "afba2cb1-9f9e-46c9-b7bd-d068ada1d5d0",
   "metadata": {},
   "outputs": [],
   "source": [
    "# This is a poor solution to this problem\n",
    "def anagram_check(str1, str2):\n",
    "    return sorted(str1) == sorted(str2)\n"
   ]
  },
  {
   "cell_type": "code",
   "execution_count": 4,
   "id": "55dc2e75-03a8-4317-a3ca-13da06ca5c9a",
   "metadata": {},
   "outputs": [
    {
     "data": {
      "text/plain": [
       "True"
      ]
     },
     "execution_count": 4,
     "metadata": {},
     "output_type": "execute_result"
    }
   ],
   "source": [
    "anagram_check(\"cars\", \"scar\")"
   ]
  },
  {
   "cell_type": "code",
   "execution_count": 17,
   "id": "d3fc4f86-d294-4d18-bc17-fb54d5c835fd",
   "metadata": {},
   "outputs": [],
   "source": [
    "# This is a poor solution to this problem\n",
    "def anagram_check(str1, str2):\n",
    "    return sorted(str1) == sorted(str2)"
   ]
  },
  {
   "cell_type": "code",
   "execution_count": 19,
   "id": "21d408e9-9d0c-44ec-af31-1007a71435c6",
   "metadata": {},
   "outputs": [
    {
     "data": {
      "text/plain": [
       "True"
      ]
     },
     "execution_count": 19,
     "metadata": {},
     "output_type": "execute_result"
    }
   ],
   "source": [
    "anagram_check(\"iamlordvoldemort\",\"tommarvoloriddle\")"
   ]
  },
  {
   "cell_type": "code",
   "execution_count": 20,
   "id": "41e2d12d-fefa-440e-8c81-42ebd6b62a9b",
   "metadata": {},
   "outputs": [
    {
     "data": {
      "text/plain": [
       "False"
      ]
     },
     "execution_count": 20,
     "metadata": {},
     "output_type": "execute_result"
    }
   ],
   "source": [
    "anagram_check(\"i am lord voldemort\",\"tom marvolo riddle\")"
   ]
  },
  {
   "cell_type": "code",
   "execution_count": 1,
   "id": "8db9e553-25f3-4abd-959e-be9cdd7b4c9e",
   "metadata": {},
   "outputs": [],
   "source": [
    "def anagram_check(str1, str2):\n",
    "    str1 = str1.replace(\" \",\"\")\n",
    "    str2 = str2.replace(\" \",\"\")\n",
    "    return sorted(str1) == sorted(str2)"
   ]
  },
  {
   "cell_type": "code",
   "execution_count": 2,
   "id": "5296340b-eb51-44c1-b99c-4a166248de8f",
   "metadata": {},
   "outputs": [
    {
     "data": {
      "text/plain": [
       "True"
      ]
     },
     "execution_count": 2,
     "metadata": {},
     "output_type": "execute_result"
    }
   ],
   "source": [
    "anagram_check(\"i am lord voldemort\", \"tom marvolo riddle\")"
   ]
  },
  {
   "cell_type": "code",
   "execution_count": 3,
   "id": "08866e05-afb9-49ab-9c92-7260a369c72f",
   "metadata": {},
   "outputs": [
    {
     "data": {
      "text/plain": [
       "False"
      ]
     },
     "execution_count": 3,
     "metadata": {},
     "output_type": "execute_result"
    }
   ],
   "source": [
    "anagram_check(\"I am Lord Voldemort\", \"Tom Marvolo Riddle\")"
   ]
  },
  {
   "cell_type": "code",
   "execution_count": 4,
   "id": "43c70a83-af5f-4689-9157-1bdd856b3550",
   "metadata": {},
   "outputs": [],
   "source": [
    "def anagram_check(str1, str2):\n",
    "    str1 = str1.replace(\" \",\"\").lower()\n",
    "    str2 = str2.replace(\" \",\"\").lower()\n",
    "    return sorted(str1) == sorted(str2)"
   ]
  },
  {
   "cell_type": "code",
   "execution_count": 5,
   "id": "28cf8202-0f25-4e4f-9952-cc77533f03e4",
   "metadata": {},
   "outputs": [
    {
     "data": {
      "text/plain": [
       "False"
      ]
     },
     "execution_count": 5,
     "metadata": {},
     "output_type": "execute_result"
    }
   ],
   "source": [
    "anagram_check(\"I am Lord Voldermort\", \"Tom Marvolo Riddle\")"
   ]
  },
  {
   "cell_type": "code",
   "execution_count": 6,
   "id": "44819bac-eb86-4efe-9034-030ca9d48e4a",
   "metadata": {},
   "outputs": [
    {
     "data": {
      "text/plain": [
       "True"
      ]
     },
     "execution_count": 6,
     "metadata": {},
     "output_type": "execute_result"
    }
   ],
   "source": [
    "anagram_check(\"I am Lord Voldemort\", \"Tom Marvolo Riddle\")"
   ]
  },
  {
   "cell_type": "code",
   "execution_count": 7,
   "id": "b654f1b4-3c15-494a-9f79-b2d84461d862",
   "metadata": {},
   "outputs": [
    {
     "data": {
      "text/plain": [
       "True"
      ]
     },
     "execution_count": 7,
     "metadata": {},
     "output_type": "execute_result"
    }
   ],
   "source": [
    "anagram_check(\"cars\", \"scar\")"
   ]
  },
  {
   "cell_type": "code",
   "execution_count": 8,
   "id": "95e73d23-995e-4031-8930-d75cfcba56a6",
   "metadata": {},
   "outputs": [
    {
     "data": {
      "text/plain": [
       "True"
      ]
     },
     "execution_count": 8,
     "metadata": {},
     "output_type": "execute_result"
    }
   ],
   "source": [
    "anagram_check(\"Bad Credit\", \"Debit Card\")"
   ]
  },
  {
   "cell_type": "code",
   "execution_count": 9,
   "id": "52542180-4386-40f2-824b-531e6fcb8ee9",
   "metadata": {},
   "outputs": [
    {
     "data": {
      "text/plain": [
       "True"
      ]
     },
     "execution_count": 9,
     "metadata": {},
     "output_type": "execute_result"
    }
   ],
   "source": [
    "anagram_check(\"I Love Coding\",\"Gold Invoice\")"
   ]
  },
  {
   "cell_type": "code",
   "execution_count": 10,
   "id": "e73fc3a3-9a8d-4959-8012-ce260540cd15",
   "metadata": {},
   "outputs": [
    {
     "data": {
      "text/plain": [
       "True"
      ]
     },
     "execution_count": 10,
     "metadata": {},
     "output_type": "execute_result"
    }
   ],
   "source": [
    "anagram_check(\"This Took Too Long\",\"Looting Took Host\")"
   ]
  },
  {
   "cell_type": "code",
   "execution_count": 11,
   "id": "a2d3eaee-0f96-47bd-bc26-fa969c304fa6",
   "metadata": {},
   "outputs": [
    {
     "data": {
      "text/plain": [
       "True"
      ]
     },
     "execution_count": 11,
     "metadata": {},
     "output_type": "execute_result"
    }
   ],
   "source": [
    "anagram_check(\"testing\",\"setting\")"
   ]
  },
  {
   "cell_type": "code",
   "execution_count": 18,
   "id": "23e0e2b1-d421-4e9d-a992-e601e4b448c8",
   "metadata": {},
   "outputs": [],
   "source": [
    "def anagram_check(str1, str2):\n",
    "    str1 = str1.replace(\" \",\"\").lower()\n",
    "    str2 = str2.replace(\" \",\"\").lower()\n",
    "    return sorted(str1) == sorted(str2)"
   ]
  },
  {
   "cell_type": "code",
   "execution_count": 1,
   "id": "1998124c-e40c-43ed-8f47-fc2e82b85844",
   "metadata": {},
   "outputs": [
    {
     "data": {
      "text/plain": [
       "65"
      ]
     },
     "execution_count": 1,
     "metadata": {},
     "output_type": "execute_result"
    }
   ],
   "source": [
    "ord(\"A\")"
   ]
  },
  {
   "cell_type": "code",
   "execution_count": 2,
   "id": "aacd036d-2577-40c1-abfa-4a23472515d3",
   "metadata": {},
   "outputs": [
    {
     "data": {
      "text/plain": [
       "'A'"
      ]
     },
     "execution_count": 2,
     "metadata": {},
     "output_type": "execute_result"
    }
   ],
   "source": [
    "chr(65)"
   ]
  },
  {
   "cell_type": "code",
   "execution_count": 3,
   "id": "d3684066-ca65-4342-87b9-0a012a0e47fc",
   "metadata": {},
   "outputs": [
    {
     "data": {
      "text/plain": [
       "'a'"
      ]
     },
     "execution_count": 3,
     "metadata": {},
     "output_type": "execute_result"
    }
   ],
   "source": [
    "chr(97)"
   ]
  },
  {
   "cell_type": "code",
   "execution_count": 4,
   "id": "27701ba5-9c3d-4709-b642-17ff7fd80f7e",
   "metadata": {},
   "outputs": [
    {
     "data": {
      "text/plain": [
       "'A'"
      ]
     },
     "execution_count": 4,
     "metadata": {},
     "output_type": "execute_result"
    }
   ],
   "source": [
    "# Based on ASCII:\n",
    "# To convert from characters to numbers\n",
    "ord(\"A\")\n",
    "# To convert from numbers to characters\n",
    "chr(65)"
   ]
  },
  {
   "cell_type": "code",
   "execution_count": 5,
   "id": "9dd7aee0-19d6-489d-bfc2-ec117f8569a9",
   "metadata": {},
   "outputs": [],
   "source": [
    "# defin function anagram_check with paramaters: (str) string1 and (str) string2\n",
    "# string1 = string1 in lower case without spaces\n",
    "# string2 = string2 in lower case without spaces\n",
    "# if the length of string1 is not equal to the length of string2:\n",
    "#    return false\n",
    "#otherwise:\n",
    "#    dictionary1 = new dictionary\n",
    "#    dictionary2 = new dictionary\n",
    "#    for each \"number\" in the range from 0 to the length of string1:\n",
    "#        if the caracter at position number in string1 is not in dictionary1:\n",
    "#            create a new entry for that character in dictionary1, and set the value for it to 1\n",
    "#        otherwise:\n",
    "#            add 1 to the value associated with that character in dictionary1\n",
    "#        if the caracter at position number in string2 is not in dictionary2:\n",
    "#            create a new entry for that character in dictionary2, and set the value for it to 1\n",
    "#        otherwise:\n",
    "#            add 1 to the value associated with that character in dictionary2\n",
    "#    if dictionary 1 is not equal to dictionary2:\n",
    "#        return False\n",
    "#    otherwise:\n",
    "#        return True"
   ]
  },
  {
   "cell_type": "code",
   "execution_count": 8,
   "id": "e11e9e44-eb7f-41e5-a081-61061c3bf35a",
   "metadata": {},
   "outputs": [],
   "source": [
    "def anagram_check(str1, str2):\n",
    "    str1 = str1.replace(\" \",\"\").lower()\n",
    "    str2 = str2.replace(\" \",\"\").lower()\n",
    "    if len(str1) != len(str2):\n",
    "        return false\n",
    "    dict1 = {}\n",
    "    dict2 = {}\n",
    "    for index in range(len(str1)):\n",
    "        if str1[index] not in dict1:\n",
    "            dict1[str1[index]] = 1\n",
    "        else:\n",
    "            dict1[str1[index]] += 1\n",
    "        if str2[index] not in dict2:\n",
    "            dict2[str2[index]] = 1\n",
    "        else:\n",
    "            dict2[str2[index]] += 1\n",
    "    return dict1 == dict2"
   ]
  },
  {
   "cell_type": "code",
   "execution_count": 9,
   "id": "f5f9040e-8e2b-4f84-b744-aa098ada7027",
   "metadata": {},
   "outputs": [
    {
     "data": {
      "text/plain": [
       "True"
      ]
     },
     "execution_count": 9,
     "metadata": {},
     "output_type": "execute_result"
    }
   ],
   "source": [
    "anagram_check(\"I am Lord Voldemort\", \"Tom Marvolo Riddle\")"
   ]
  },
  {
   "cell_type": "code",
   "execution_count": null,
   "id": "3af20a63-bd7f-44d5-93e6-b94c5cddc87b",
   "metadata": {},
   "outputs": [],
   "source": []
  }
 ],
 "metadata": {
  "kernelspec": {
   "display_name": "Python 3 (ipykernel)",
   "language": "python",
   "name": "python3"
  },
  "language_info": {
   "codemirror_mode": {
    "name": "ipython",
    "version": 3
   },
   "file_extension": ".py",
   "mimetype": "text/x-python",
   "name": "python",
   "nbconvert_exporter": "python",
   "pygments_lexer": "ipython3",
   "version": "3.13.0"
  }
 },
 "nbformat": 4,
 "nbformat_minor": 5
}
